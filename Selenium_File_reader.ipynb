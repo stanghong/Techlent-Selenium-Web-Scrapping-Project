{
 "cells": [
  {
   "cell_type": "markdown",
   "id": "4be6339b",
   "metadata": {},
   "source": [
    "### Techlent Testing Project"
   ]
  },
  {
   "cell_type": "markdown",
   "id": "178699c9",
   "metadata": {},
   "source": [
    "\n",
    "***Selenium Web Scrapping Toy Project*** \\\n",
    "https://docs.github.com/en/rest/guides/getting-started-with-the-rest-api\n",
    "\n",
    "Following command to extract my github info \\\n",
    "curl \\\n",
    "   -H \"Accept: application/vnd.github.v3+json\" \\\n",
    "   https://api.github.com/users/stanghong \n"
   ]
  },
  {
   "cell_type": "code",
   "execution_count": 1,
   "id": "c9224619",
   "metadata": {},
   "outputs": [],
   "source": [
    "from selenium import webdriver"
   ]
  },
  {
   "cell_type": "code",
   "execution_count": 2,
   "id": "85e7f266",
   "metadata": {},
   "outputs": [
    {
     "name": "stdout",
     "output_type": "stream",
     "text": [
      "{\n",
      "  \"login\": \"stanghong\",\n",
      "  \"id\": 53389274,\n",
      "  \"node_id\": \"MDQ6VXNlcjUzMzg5Mjc0\",\n",
      "  \"avatar_url\": \"https://avatars.githubusercontent.com/u/53389274?v=4\",\n",
      "  \"gravatar_id\": \"\",\n",
      "  \"url\": \"https://api.github.com/users/stanghong\",\n",
      "  \"html_url\": \"https://github.com/stanghong\",\n",
      "  \"followers_url\": \"https://api.github.com/users/stanghong/followers\",\n",
      "  \"following_url\": \"https://api.github.com/users/stanghong/following{/other_user}\",\n",
      "  \"gists_url\": \"https://api.github.com/users/stanghong/gists{/gist_id}\",\n",
      "  \"starred_url\": \"https://api.github.com/users/stanghong/starred{/owner}{/repo}\",\n",
      "  \"subscriptions_url\": \"https://api.github.com/users/stanghong/subscriptions\",\n",
      "  \"organizations_url\": \"https://api.github.com/users/stanghong/orgs\",\n",
      "  \"repos_url\": \"https://api.github.com/users/stanghong/repos\",\n",
      "  \"events_url\": \"https://api.github.com/users/stanghong/events{/privacy}\",\n",
      "  \"received_events_url\": \"https://api.github.com/users/stanghong/received_events\",\n",
      "  \"type\": \"User\",\n",
      "  \"site_admin\": false,\n",
      "  \"name\": \"stanghong\",\n",
      "  \"company\": null,\n",
      "  \"blog\": \"\",\n",
      "  \"location\": null,\n",
      "  \"email\": null,\n",
      "  \"hireable\": null,\n",
      "  \"bio\": \"DS scientist in Training.\\r\\n\\r\\nPlan to transition into data scientist in couple months\",\n",
      "  \"twitter_username\": null,\n",
      "  \"public_repos\": 5,\n",
      "  \"public_gists\": 1,\n",
      "  \"followers\": 0,\n",
      "  \"following\": 2,\n",
      "  \"created_at\": \"2019-07-28T04:50:57Z\",\n",
      "  \"updated_at\": \"2021-08-15T20:45:57Z\"\n"
     ]
    }
   ],
   "source": [
    "#open the file for read operation\n",
    "f = open('Github_api_result.txt')\n",
    "#reads the entire file content and prints in console\n",
    "print(f.read())\n",
    "#close the file\n",
    "f.close()"
   ]
  },
  {
   "cell_type": "code",
   "execution_count": null,
   "id": "cb566a47",
   "metadata": {},
   "outputs": [],
   "source": []
  }
 ],
 "metadata": {
  "kernelspec": {
   "display_name": "Python 3",
   "language": "python",
   "name": "python3"
  },
  "language_info": {
   "codemirror_mode": {
    "name": "ipython",
    "version": 3
   },
   "file_extension": ".py",
   "mimetype": "text/x-python",
   "name": "python",
   "nbconvert_exporter": "python",
   "pygments_lexer": "ipython3",
   "version": "3.8.8"
  }
 },
 "nbformat": 4,
 "nbformat_minor": 5
}
