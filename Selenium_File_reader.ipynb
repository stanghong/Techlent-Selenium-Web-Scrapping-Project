{
 "cells": [
  {
   "cell_type": "markdown",
   "id": "4be6339b",
   "metadata": {},
   "source": [
    "### Techlent Testing Project"
   ]
  },
  {
   "cell_type": "markdown",
   "id": "178699c9",
   "metadata": {},
   "source": [
    "\n",
    "***Selenium Web Scrapping Toy Project*** \\\n",
    "https://docs.github.com/en/rest/guides/getting-started-with-the-rest-api\n",
    "\n",
    "Following command to extract my github info \\\n",
    "curl \\\n",
    "   -H \"Accept: application/vnd.github.v3+json\" \\\n",
    "   https://api.github.com/users/stanghong \n"
   ]
  },
  {
   "cell_type": "code",
   "execution_count": 1,
   "id": "c9224619",
   "metadata": {},
   "outputs": [],
   "source": [
    "from selenium import webdriver"
   ]
  },
  {
   "cell_type": "markdown",
   "id": "c644b8e3",
   "metadata": {},
   "source": [
    "# initialize Chrome driver\n"
   ]
  },
  {
   "cell_type": "code",
   "execution_count": 2,
   "id": "cb566a47",
   "metadata": {},
   "outputs": [],
   "source": [
    "from selenium.webdriver.chrome.service import Service\n",
    "service=Service('/Users/hongtang/Downloads/chromedriver')\n",
    "service.start()"
   ]
  },
  {
   "cell_type": "markdown",
   "id": "39f6beef",
   "metadata": {},
   "source": [
    "## Get webpage"
   ]
  },
  {
   "cell_type": "code",
   "execution_count": 5,
   "id": "4b7e6d3e",
   "metadata": {},
   "outputs": [],
   "source": [
    "from selenium import webdriver\n",
    "driver=webdriver.Remote(service.service_url)\n",
    "driver.get('https://api.github.com/users/stanghong')"
   ]
  },
  {
   "cell_type": "code",
   "execution_count": null,
   "id": "f74c2f97",
   "metadata": {},
   "outputs": [],
   "source": []
  }
 ],
 "metadata": {
  "kernelspec": {
   "display_name": "Python 3",
   "language": "python",
   "name": "python3"
  },
  "language_info": {
   "codemirror_mode": {
    "name": "ipython",
    "version": 3
   },
   "file_extension": ".py",
   "mimetype": "text/x-python",
   "name": "python",
   "nbconvert_exporter": "python",
   "pygments_lexer": "ipython3",
   "version": "3.8.8"
  }
 },
 "nbformat": 4,
 "nbformat_minor": 5
}
